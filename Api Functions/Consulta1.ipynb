{
 "cells": [
  {
   "cell_type": "markdown",
   "metadata": {},
   "source": [
    "Consulta 01\n",
    "Esta consulta devuelve una tabla que indica la cantidad de items y porcentaje de contenido Free por año según la empresa desarrolladora.\n",
    "\n",
    "Endpoint: def developer( desarrollador : str )\n",
    "\n",
    "Importar las librerías necesarias para el procesamiento de los datos"
   ]
  },
  {
   "cell_type": "code",
   "execution_count": 1,
   "metadata": {},
   "outputs": [],
   "source": [
    "import pandas as pd"
   ]
  },
  {
   "cell_type": "markdown",
   "metadata": {},
   "source": [
    "importar los datos necesarios"
   ]
  },
  {
   "cell_type": "code",
   "execution_count": 2,
   "metadata": {},
   "outputs": [],
   "source": [
    "datos = pd.read_csv(r'C:\\Users\\EFRAIN LINARES\\Desktop\\Henry PI 1\\ETL\\games_clean.csv')\n",
    "df = pd.DataFrame(datos)"
   ]
  },
  {
   "cell_type": "code",
   "execution_count": 3,
   "metadata": {},
   "outputs": [
    {
     "data": {
      "text/html": [
       "<div>\n",
       "<style scoped>\n",
       "    .dataframe tbody tr th:only-of-type {\n",
       "        vertical-align: middle;\n",
       "    }\n",
       "\n",
       "    .dataframe tbody tr th {\n",
       "        vertical-align: top;\n",
       "    }\n",
       "\n",
       "    .dataframe thead th {\n",
       "        text-align: right;\n",
       "    }\n",
       "</style>\n",
       "<table border=\"1\" class=\"dataframe\">\n",
       "  <thead>\n",
       "    <tr style=\"text-align: right;\">\n",
       "      <th></th>\n",
       "      <th>genres</th>\n",
       "      <th>app_name</th>\n",
       "      <th>release_date</th>\n",
       "      <th>tags</th>\n",
       "      <th>price</th>\n",
       "      <th>id</th>\n",
       "      <th>developer</th>\n",
       "    </tr>\n",
       "  </thead>\n",
       "  <tbody>\n",
       "    <tr>\n",
       "      <th>0</th>\n",
       "      <td>Action</td>\n",
       "      <td>Lost Summoner Kitty</td>\n",
       "      <td>2018-01-04</td>\n",
       "      <td>['Strategy', 'Action', 'Indie', 'Casual', 'Sim...</td>\n",
       "      <td>4.99</td>\n",
       "      <td>761140.0</td>\n",
       "      <td>Kotoshiro</td>\n",
       "    </tr>\n",
       "    <tr>\n",
       "      <th>1</th>\n",
       "      <td>Indie</td>\n",
       "      <td>Ironbound</td>\n",
       "      <td>2018-01-04</td>\n",
       "      <td>['Free to Play', 'Strategy', 'Indie', 'RPG', '...</td>\n",
       "      <td>NaN</td>\n",
       "      <td>643980.0</td>\n",
       "      <td>Secret Level SRL</td>\n",
       "    </tr>\n",
       "    <tr>\n",
       "      <th>2</th>\n",
       "      <td>Casual</td>\n",
       "      <td>Real Pool 3D - Poolians</td>\n",
       "      <td>2017-07-24</td>\n",
       "      <td>['Free to Play', 'Simulation', 'Sports', 'Casu...</td>\n",
       "      <td>Free</td>\n",
       "      <td>670290.0</td>\n",
       "      <td>Poolians.com</td>\n",
       "    </tr>\n",
       "    <tr>\n",
       "      <th>3</th>\n",
       "      <td>Action</td>\n",
       "      <td>弹炸人2222</td>\n",
       "      <td>2017-12-07</td>\n",
       "      <td>['Action', 'Adventure', 'Casual']</td>\n",
       "      <td>0.99</td>\n",
       "      <td>767400.0</td>\n",
       "      <td>彼岸领域</td>\n",
       "    </tr>\n",
       "    <tr>\n",
       "      <th>4</th>\n",
       "      <td>Action</td>\n",
       "      <td>Log Challenge</td>\n",
       "      <td>NaN</td>\n",
       "      <td>['Action', 'Indie', 'Casual', 'Sports']</td>\n",
       "      <td>2.99</td>\n",
       "      <td>773570.0</td>\n",
       "      <td>NaN</td>\n",
       "    </tr>\n",
       "    <tr>\n",
       "      <th>...</th>\n",
       "      <td>...</td>\n",
       "      <td>...</td>\n",
       "      <td>...</td>\n",
       "      <td>...</td>\n",
       "      <td>...</td>\n",
       "      <td>...</td>\n",
       "      <td>...</td>\n",
       "    </tr>\n",
       "    <tr>\n",
       "      <th>32130</th>\n",
       "      <td>Casual</td>\n",
       "      <td>Colony On Mars</td>\n",
       "      <td>2018-01-04</td>\n",
       "      <td>['Strategy', 'Indie', 'Casual', 'Simulation']</td>\n",
       "      <td>1.99</td>\n",
       "      <td>773640.0</td>\n",
       "      <td>Nikita \"Ghost_RUS\"</td>\n",
       "    </tr>\n",
       "    <tr>\n",
       "      <th>32131</th>\n",
       "      <td>Casual</td>\n",
       "      <td>LOGistICAL: South Africa</td>\n",
       "      <td>2018-01-04</td>\n",
       "      <td>['Strategy', 'Indie', 'Casual']</td>\n",
       "      <td>4.99</td>\n",
       "      <td>733530.0</td>\n",
       "      <td>Sacada</td>\n",
       "    </tr>\n",
       "    <tr>\n",
       "      <th>32132</th>\n",
       "      <td>Indie</td>\n",
       "      <td>Russian Roads</td>\n",
       "      <td>2018-01-04</td>\n",
       "      <td>['Indie', 'Simulation', 'Racing']</td>\n",
       "      <td>1.99</td>\n",
       "      <td>610660.0</td>\n",
       "      <td>Laush Dmitriy Sergeevich</td>\n",
       "    </tr>\n",
       "    <tr>\n",
       "      <th>32133</th>\n",
       "      <td>Casual</td>\n",
       "      <td>EXIT 2 - Directions</td>\n",
       "      <td>2017-09-02</td>\n",
       "      <td>['Indie', 'Casual', 'Puzzle', 'Singleplayer', ...</td>\n",
       "      <td>4.99</td>\n",
       "      <td>658870.0</td>\n",
       "      <td>xropi,stev3ns</td>\n",
       "    </tr>\n",
       "    <tr>\n",
       "      <th>32134</th>\n",
       "      <td>Early Access</td>\n",
       "      <td>Maze Run VR</td>\n",
       "      <td>NaN</td>\n",
       "      <td>['Early Access', 'Adventure', 'Indie', 'Action...</td>\n",
       "      <td>4.99</td>\n",
       "      <td>681550.0</td>\n",
       "      <td>NaN</td>\n",
       "    </tr>\n",
       "  </tbody>\n",
       "</table>\n",
       "<p>32135 rows × 7 columns</p>\n",
       "</div>"
      ],
      "text/plain": [
       "             genres                  app_name release_date  \\\n",
       "0            Action       Lost Summoner Kitty   2018-01-04   \n",
       "1             Indie                 Ironbound   2018-01-04   \n",
       "2            Casual   Real Pool 3D - Poolians   2017-07-24   \n",
       "3            Action                   弹炸人2222   2017-12-07   \n",
       "4            Action             Log Challenge          NaN   \n",
       "...             ...                       ...          ...   \n",
       "32130        Casual            Colony On Mars   2018-01-04   \n",
       "32131        Casual  LOGistICAL: South Africa   2018-01-04   \n",
       "32132         Indie             Russian Roads   2018-01-04   \n",
       "32133        Casual       EXIT 2 - Directions   2017-09-02   \n",
       "32134  Early Access               Maze Run VR          NaN   \n",
       "\n",
       "                                                    tags price        id  \\\n",
       "0      ['Strategy', 'Action', 'Indie', 'Casual', 'Sim...  4.99  761140.0   \n",
       "1      ['Free to Play', 'Strategy', 'Indie', 'RPG', '...   NaN  643980.0   \n",
       "2      ['Free to Play', 'Simulation', 'Sports', 'Casu...  Free  670290.0   \n",
       "3                      ['Action', 'Adventure', 'Casual']  0.99  767400.0   \n",
       "4                ['Action', 'Indie', 'Casual', 'Sports']  2.99  773570.0   \n",
       "...                                                  ...   ...       ...   \n",
       "32130      ['Strategy', 'Indie', 'Casual', 'Simulation']  1.99  773640.0   \n",
       "32131                    ['Strategy', 'Indie', 'Casual']  4.99  733530.0   \n",
       "32132                  ['Indie', 'Simulation', 'Racing']  1.99  610660.0   \n",
       "32133  ['Indie', 'Casual', 'Puzzle', 'Singleplayer', ...  4.99  658870.0   \n",
       "32134  ['Early Access', 'Adventure', 'Indie', 'Action...  4.99  681550.0   \n",
       "\n",
       "                      developer  \n",
       "0                     Kotoshiro  \n",
       "1              Secret Level SRL  \n",
       "2                  Poolians.com  \n",
       "3                          彼岸领域  \n",
       "4                           NaN  \n",
       "...                         ...  \n",
       "32130        Nikita \"Ghost_RUS\"  \n",
       "32131                    Sacada  \n",
       "32132  Laush Dmitriy Sergeevich  \n",
       "32133             xropi,stev3ns  \n",
       "32134                       NaN  \n",
       "\n",
       "[32135 rows x 7 columns]"
      ]
     },
     "execution_count": 3,
     "metadata": {},
     "output_type": "execute_result"
    }
   ],
   "source": [
    "df"
   ]
  },
  {
   "cell_type": "markdown",
   "metadata": {},
   "source": [
    "Hacemos una copia del dataFrame original"
   ]
  },
  {
   "cell_type": "code",
   "execution_count": 4,
   "metadata": {},
   "outputs": [],
   "source": [
    "df_copy = df.copy()"
   ]
  },
  {
   "cell_type": "markdown",
   "metadata": {},
   "source": [
    "Realizamos las siguientes operaciones:\n",
    "\n",
    "Conviertir la columna 'release_date' del DataFrame a formato de fecha si aún no lo está.\n",
    "Filtrar el DataFrame por el desarrollador especificado.\n",
    "Agrupar los datos por año de lanzamiento y cuenta la cantidad de juegos en cada grupo.\n",
    "Calcular el porcentaje de contenido gratuito para cada año de lanzamiento.\n",
    "Combinar los resultados en un DataFrame final, mostrando la cantidad de juegos y el porcentaje de contenido gratuito para cada año.\n",
    "Renombrar la columna 'release_date' a 'Año'.\n",
    "Devolver el DataFrame resultante."
   ]
  },
  {
   "cell_type": "code",
   "execution_count": 5,
   "metadata": {},
   "outputs": [],
   "source": [
    "def developer(desarrollador: str, df_games_copy: pd.DataFrame):\n",
    "    # Convertir la columna 'release_date' a formato de fecha si no lo está\n",
    "    df['release_date'] = pd.to_datetime(df['release_date'], errors='coerce')\n",
    "\n",
    "    # Filtrar el DataFrame por el desarrollador dado\n",
    "    developer_df = df[df['developer'] == desarrollador]\n",
    "\n",
    "    # Agrupar por año y contar la cantidad de elementos en cada grupo\n",
    "    items_por_año = developer_df.groupby(df['release_date'].dt.year).size().reset_index(name='Cantidad de Items')\n",
    "\n",
    "    # Calcular el porcentaje de contenido gratuito para cada año\n",
    "    free_por_año = developer_df[developer_df['price'] == 'Free'].groupby(df['release_date'].dt.year).size().reset_index(name='Contenido Free')\n",
    "\n",
    "    # Combinar los resultados en un DataFrame final\n",
    "    result_df = items_por_año.merge(free_por_año, on='release_date', how='left')\n",
    "    result_df['Contenido Free'] = (result_df['Contenido Free'] / result_df['Cantidad de Items'] * 100).fillna(0).astype(int).astype(str) + '%'\n",
    "\n",
    "    # Renombrar la columna de años\n",
    "    result_df.rename(columns={'release_date': 'Año'}, inplace=True)\n",
    "\n",
    "    return result_df"
   ]
  },
  {
   "cell_type": "markdown",
   "metadata": {},
   "source": [
    "Aplicamos la función y corroboramos que funcione correctamente"
   ]
  },
  {
   "cell_type": "code",
   "execution_count": 9,
   "metadata": {},
   "outputs": [
    {
     "name": "stdout",
     "output_type": "stream",
     "text": [
      "      Año  Cantidad de Items Contenido Free\n",
      "0  2016.0                  1             0%\n",
      "1  2017.0                  2             0%\n"
     ]
    }
   ],
   "source": [
    "# Solicitar al usuario que ingrese el nombre del desarrollador\n",
    "desarrolladorr = input(\"Ingrese el nombre del desarrollador: \")\n",
    "\n",
    "# Llamar a la función developer con el nombre del desarrollador proporcionado por el usuario\n",
    "consulta = developer(desarrolladorr, df_copy)\n",
    "print(consulta)"
   ]
  }
 ],
 "metadata": {
  "kernelspec": {
   "display_name": "Python 3",
   "language": "python",
   "name": "python3"
  },
  "language_info": {
   "codemirror_mode": {
    "name": "ipython",
    "version": 3
   },
   "file_extension": ".py",
   "mimetype": "text/x-python",
   "name": "python",
   "nbconvert_exporter": "python",
   "pygments_lexer": "ipython3",
   "version": "3.12.4"
  }
 },
 "nbformat": 4,
 "nbformat_minor": 2
}
